{
 "cells": [
  {
   "cell_type": "code",
   "execution_count": 19,
   "metadata": {},
   "outputs": [],
   "source": [
    "from train import train\n",
    "from model import DDQN, Net\n",
    "from options import read_namespace\n",
    "import numpy as np\n",
    "import matplotlib.pyplot as plt\n",
    "import torch\n",
    "import os\n",
    "\n",
    "SEED=42\n",
    "np.random.seed(SEED)\n",
    "torch.manual_seed(SEED)\n",
    "\n",
    "os.makedirs('saved_models', exist_ok=True)\n",
    "\n",
    "TRAINING_OPTIONS = \"train_options.json\"\n",
    "opt = read_namespace(TRAINING_OPTIONS)\n",
    "\n",
    "NUM_STATES = 77\n",
    "NUM_ACTIONS = 4\n",
    "\n",
    "ACTIONS = ['NORTH', 'SOUTH', 'EAST', 'WEST']\n",
    "NUM_ROWS = 7\n",
    "NUM_COLS = 11\n",
    "\n",
    "ddqn = DDQN(NUM_STATES, NUM_ACTIONS, opt.eps, opt)"
   ]
  },
  {
   "cell_type": "code",
   "execution_count": 25,
   "metadata": {},
   "outputs": [
    {
     "name": "stdout",
     "output_type": "stream",
     "text": [
      "Layer 0: shape of (128, 77) and average weight of -0.031 min weight of  -0.531 and max weight of 0.356\n",
      "Layer 1: shape of (128,) and average weight of -0.055 min weight of  -0.356 and max weight of 0.328\n",
      "Layer 2: shape of (256, 128) and average weight of 0.010 min weight of  -0.779 and max weight of 0.879\n",
      "Layer 3: shape of (256,) and average weight of 0.111 min weight of  -0.289 and max weight of 0.679\n",
      "Layer 4: shape of (4, 256) and average weight of -0.125 min weight of  -1.062 and max weight of 1.104\n",
      "Layer 5: shape of (4,) and average weight of -0.086 min weight of  -0.097 and max weight of -0.080\n",
      "Total Parameters: 44036\n"
     ]
    }
   ],
   "source": [
    "def print_weights(net: Net) -> None:\n",
    "  for i, weight in enumerate(net.parameters()):\n",
    "    weight = weight.detach().cpu().numpy()\n",
    "    average_weight = np.mean(weight)\n",
    "    min_weight = np.min(weight)\n",
    "    max_weight = np.max(weight)\n",
    "    print(\"Layer {0}: shape of {1} and average weight of {2:.3f} min weight of  {3:.3f} and max weight of {4:.3f}\"\n",
    "    .format(i, weight.shape, average_weight, min_weight, max_weight))\n",
    "  \n",
    "  total_params = sum(p.numel() for p in ddqn.eval_net.parameters())\n",
    "  print(\"Total Parameters: {}\".format(total_params))\n",
    "\n",
    "print_weights(ddqn.target_net)"
   ]
  },
  {
   "cell_type": "code",
   "execution_count": 21,
   "metadata": {},
   "outputs": [
    {
     "name": "stderr",
     "output_type": "stream",
     "text": [
      "  0%|          | 6/100000 [00:00<33:16, 50.09it/s]"
     ]
    },
    {
     "name": "stdout",
     "output_type": "stream",
     "text": [
      "saving model at episode 0 in save_path=./saved_models/ddqn-00000\n"
     ]
    },
    {
     "name": "stderr",
     "output_type": "stream",
     "text": [
      "  5%|▌         | 5008/100000 [02:01<41:14, 38.40it/s]"
     ]
    },
    {
     "name": "stdout",
     "output_type": "stream",
     "text": [
      "saving model at episode 5000 in save_path=./saved_models/ddqn-05000\n"
     ]
    },
    {
     "name": "stderr",
     "output_type": "stream",
     "text": [
      " 10%|█         | 10009/100000 [04:13<36:40, 40.89it/s]"
     ]
    },
    {
     "name": "stdout",
     "output_type": "stream",
     "text": [
      "saving model at episode 10000 in save_path=./saved_models/ddqn-10000\n"
     ]
    },
    {
     "name": "stderr",
     "output_type": "stream",
     "text": [
      " 15%|█▌        | 15001/100000 [06:22<41:40, 33.99it/s]"
     ]
    },
    {
     "name": "stdout",
     "output_type": "stream",
     "text": [
      "saving model at episode 15000 in save_path=./saved_models/ddqn-15000\n"
     ]
    },
    {
     "name": "stderr",
     "output_type": "stream",
     "text": [
      " 20%|██        | 20003/100000 [08:37<37:40, 35.38it/s]"
     ]
    },
    {
     "name": "stdout",
     "output_type": "stream",
     "text": [
      "saving model at episode 20000 in save_path=./saved_models/ddqn-20000\n"
     ]
    },
    {
     "name": "stderr",
     "output_type": "stream",
     "text": [
      " 25%|██▌       | 25006/100000 [10:53<31:57, 39.12it/s]"
     ]
    },
    {
     "name": "stdout",
     "output_type": "stream",
     "text": [
      "saving model at episode 25000 in save_path=./saved_models/ddqn-25000\n"
     ]
    },
    {
     "name": "stderr",
     "output_type": "stream",
     "text": [
      " 30%|███       | 30003/100000 [12:57<34:45, 33.56it/s]"
     ]
    },
    {
     "name": "stdout",
     "output_type": "stream",
     "text": [
      "saving model at episode 30000 in save_path=./saved_models/ddqn-30000\n"
     ]
    },
    {
     "name": "stderr",
     "output_type": "stream",
     "text": [
      " 35%|███▌      | 35001/100000 [15:20<43:04, 25.15it/s]"
     ]
    },
    {
     "name": "stdout",
     "output_type": "stream",
     "text": [
      "saving model at episode 35000 in save_path=./saved_models/ddqn-35000\n"
     ]
    },
    {
     "name": "stderr",
     "output_type": "stream",
     "text": [
      " 40%|████      | 40002/100000 [17:56<33:06, 30.20it/s]"
     ]
    },
    {
     "name": "stdout",
     "output_type": "stream",
     "text": [
      "saving model at episode 40000 in save_path=./saved_models/ddqn-40000\n"
     ]
    },
    {
     "name": "stderr",
     "output_type": "stream",
     "text": [
      " 45%|████▌     | 45002/100000 [20:21<31:02, 29.53it/s]"
     ]
    },
    {
     "name": "stdout",
     "output_type": "stream",
     "text": [
      "saving model at episode 45000 in save_path=./saved_models/ddqn-45000\n"
     ]
    },
    {
     "name": "stderr",
     "output_type": "stream",
     "text": [
      " 50%|█████     | 50002/100000 [22:49<30:13, 27.57it/s]"
     ]
    },
    {
     "name": "stdout",
     "output_type": "stream",
     "text": [
      "saving model at episode 50000 in save_path=./saved_models/ddqn-50000\n"
     ]
    },
    {
     "name": "stderr",
     "output_type": "stream",
     "text": [
      " 55%|█████▌    | 55002/100000 [25:22<29:30, 25.41it/s]"
     ]
    },
    {
     "name": "stdout",
     "output_type": "stream",
     "text": [
      "saving model at episode 55000 in save_path=./saved_models/ddqn-55000\n"
     ]
    },
    {
     "name": "stderr",
     "output_type": "stream",
     "text": [
      " 60%|██████    | 60001/100000 [28:05<26:14, 25.40it/s]"
     ]
    },
    {
     "name": "stdout",
     "output_type": "stream",
     "text": [
      "saving model at episode 60000 in save_path=./saved_models/ddqn-60000\n"
     ]
    },
    {
     "name": "stderr",
     "output_type": "stream",
     "text": [
      " 65%|██████▌   | 65001/100000 [30:39<24:30, 23.80it/s]"
     ]
    },
    {
     "name": "stdout",
     "output_type": "stream",
     "text": [
      "saving model at episode 65000 in save_path=./saved_models/ddqn-65000\n"
     ]
    },
    {
     "name": "stderr",
     "output_type": "stream",
     "text": [
      " 70%|███████   | 70001/100000 [33:12<25:02, 19.97it/s]"
     ]
    },
    {
     "name": "stdout",
     "output_type": "stream",
     "text": [
      "saving model at episode 70000 in save_path=./saved_models/ddqn-70000\n"
     ]
    },
    {
     "name": "stderr",
     "output_type": "stream",
     "text": [
      " 75%|███████▌  | 75000/100000 [36:02<12:52, 32.36it/s]"
     ]
    },
    {
     "name": "stdout",
     "output_type": "stream",
     "text": [
      "saving model at episode 75000 in save_path=./saved_models/ddqn-75000\n"
     ]
    },
    {
     "name": "stderr",
     "output_type": "stream",
     "text": [
      " 80%|████████  | 80001/100000 [38:55<19:22, 17.21it/s]"
     ]
    },
    {
     "name": "stdout",
     "output_type": "stream",
     "text": [
      "saving model at episode 80000 in save_path=./saved_models/ddqn-80000\n"
     ]
    },
    {
     "name": "stderr",
     "output_type": "stream",
     "text": [
      " 85%|████████▍ | 84998/100000 [42:50<11:25, 21.90it/s]"
     ]
    },
    {
     "name": "stdout",
     "output_type": "stream",
     "text": [
      "saving model at episode 85000 in save_path=./saved_models/ddqn-85000\n"
     ]
    },
    {
     "name": "stderr",
     "output_type": "stream",
     "text": [
      " 90%|█████████ | 90000/100000 [47:14<11:31, 14.46it/s]"
     ]
    },
    {
     "name": "stdout",
     "output_type": "stream",
     "text": [
      "saving model at episode 90000 in save_path=./saved_models/ddqn-90000\n"
     ]
    },
    {
     "name": "stderr",
     "output_type": "stream",
     "text": [
      " 95%|█████████▍| 94997/100000 [50:51<02:53, 28.81it/s]"
     ]
    },
    {
     "name": "stdout",
     "output_type": "stream",
     "text": [
      "saving model at episode 95000 in save_path=./saved_models/ddqn-95000\n"
     ]
    },
    {
     "name": "stderr",
     "output_type": "stream",
     "text": [
      "100%|██████████| 100000/100000 [54:52<00:00, 30.38it/s]\n"
     ]
    },
    {
     "name": "stdout",
     "output_type": "stream",
     "text": [
      "saving final model\n"
     ]
    }
   ],
   "source": [
    "rewards, wins = train(ddqn, opt.num_episodes)"
   ]
  },
  {
   "cell_type": "code",
   "execution_count": 22,
   "metadata": {},
   "outputs": [
    {
     "data": {
      "text/plain": [
       "[<matplotlib.lines.Line2D at 0x7f612c78ce20>]"
      ]
     },
     "execution_count": 22,
     "metadata": {},
     "output_type": "execute_result"
    },
    {
     "data": {
      "image/png": "[encoded data removed]",
      "text/plain": [
       "<Figure size 432x288 with 1 Axes>"
      ]
     },
     "metadata": {
      "needs_background": "light"
     },
     "output_type": "display_data"
    },
    {
     "data": {
      "image/png": "[encoded data removed]",
      "text/plain": [
       "<Figure size 432x288 with 1 Axes>"
      ]
     },
     "metadata": {
      "needs_background": "light"
     },
     "output_type": "display_data"
    },
    {
     "data": {
      "image/png": "[encoded data removed]",
      "text/plain": [
       "<Figure size 432x288 with 1 Axes>"
      ]
     },
     "metadata": {
      "needs_background": "light"
     },
     "output_type": "display_data"
    }
   ],
   "source": [
    "plt.plot(ddqn.losses)\n",
    "plt.figure()\n",
    "plt.plot(rewards)\n",
    "plt.figure()\n",
    "plt.plot(wins)\n"
   ]
  },
  {
   "cell_type": "code",
   "execution_count": 8,
   "metadata": {},
   "outputs": [
    {
     "name": "stdout",
     "output_type": "stream",
     "text": [
      "Defaulting to user installation because normal site-packages is not writeable\n",
      "Collecting tensorboard\n",
      "  Downloading tensorboard-2.5.0-py3-none-any.whl (6.0 MB)\n",
      "\u001b[K     |████████████████████████████████| 6.0 MB 5.8 MB/s eta 0:00:01\n",
      "\u001b[?25hRequirement already satisfied: grpcio>=1.24.3 in /usr4/ugrad/nikzad/.local/lib/python3.8/site-packages (from tensorboard) (1.39.0)\n",
      "Requirement already satisfied: setuptools>=41.0.0 in /share/pkg.7/python3/3.8.6/install/lib/python3.8/site-packages (from tensorboard) (49.2.1)\n",
      "Requirement already satisfied: requests<3,>=2.21.0 in /share/pkg.7/python3/3.8.6/install/lib/python3.8/site-packages (from tensorboard) (2.24.0)\n",
      "Requirement already satisfied: protobuf>=3.6.0 in /share/pkg.7/python3/3.8.6/install/lib/python3.8/site-packages (from tensorboard) (3.13.0)\n",
      "Requirement already satisfied: werkzeug>=0.11.15 in /share/pkg.7/python3/3.8.6/install/lib/python3.8/site-packages (from tensorboard) (1.0.1)\n",
      "Requirement already satisfied: numpy>=1.12.0 in /share/pkg.7/python3/3.8.6/install/lib/python3.8/site-packages/numpy-1.19.4-py3.8-linux-x86_64.egg (from tensorboard) (1.19.4)\n",
      "Requirement already satisfied: google-auth-oauthlib<0.5,>=0.4.1 in /usr4/ugrad/nikzad/.local/lib/python3.8/site-packages (from tensorboard) (0.4.5)\n",
      "Requirement already satisfied: tensorboard-plugin-wit>=1.6.0 in /usr4/ugrad/nikzad/.local/lib/python3.8/site-packages (from tensorboard) (1.8.0)\n",
      "Requirement already satisfied: wheel>=0.26; python_version >= \"3\" in /share/pkg.7/python3/3.8.6/install/lib/python3.8/site-packages (from tensorboard) (0.35.1)\n",
      "Requirement already satisfied: absl-py>=0.4 in /share/pkg.7/python3/3.8.6/install/lib/python3.8/site-packages (from tensorboard) (0.11.0)\n",
      "Requirement already satisfied: google-auth<2,>=1.6.3 in /share/pkg.7/python3/3.8.6/install/lib/python3.8/site-packages (from tensorboard) (1.23.0)\n",
      "Requirement already satisfied: markdown>=2.6.8 in /share/pkg.7/python3/3.8.6/install/lib/python3.8/site-packages (from tensorboard) (3.3.3)\n",
      "Requirement already satisfied: tensorboard-data-server<0.7.0,>=0.6.0 in /usr4/ugrad/nikzad/.local/lib/python3.8/site-packages (from tensorboard) (0.6.1)\n",
      "Requirement already satisfied: six>=1.5.2 in /share/pkg.7/python3/3.8.6/install/lib/python3.8/site-packages (from grpcio>=1.24.3->tensorboard) (1.15.0)\n",
      "Requirement already satisfied: urllib3!=1.25.0,!=1.25.1,<1.26,>=1.21.1 in /share/pkg.7/python3/3.8.6/install/lib/python3.8/site-packages (from requests<3,>=2.21.0->tensorboard) (1.25.11)\n",
      "Requirement already satisfied: chardet<4,>=3.0.2 in /share/pkg.7/python3/3.8.6/install/lib/python3.8/site-packages (from requests<3,>=2.21.0->tensorboard) (3.0.4)\n",
      "Requirement already satisfied: certifi>=2017.4.17 in /share/pkg.7/python3/3.8.6/install/lib/python3.8/site-packages (from requests<3,>=2.21.0->tensorboard) (2020.6.20)\n",
      "Requirement already satisfied: idna<3,>=2.5 in /share/pkg.7/python3/3.8.6/install/lib/python3.8/site-packages (from requests<3,>=2.21.0->tensorboard) (2.10)\n",
      "Requirement already satisfied: requests-oauthlib>=0.7.0 in /usr4/ugrad/nikzad/.local/lib/python3.8/site-packages (from google-auth-oauthlib<0.5,>=0.4.1->tensorboard) (1.3.0)\n",
      "Requirement already satisfied: rsa<5,>=3.1.4; python_version >= \"3.5\" in /share/pkg.7/python3/3.8.6/install/lib/python3.8/site-packages (from google-auth<2,>=1.6.3->tensorboard) (4.6)\n",
      "Requirement already satisfied: pyasn1-modules>=0.2.1 in /share/pkg.7/python3/3.8.6/install/lib/python3.8/site-packages (from google-auth<2,>=1.6.3->tensorboard) (0.2.8)\n",
      "Requirement already satisfied: cachetools<5.0,>=2.0.0 in /share/pkg.7/python3/3.8.6/install/lib/python3.8/site-packages (from google-auth<2,>=1.6.3->tensorboard) (4.1.1)\n",
      "Requirement already satisfied: oauthlib>=3.0.0 in /usr4/ugrad/nikzad/.local/lib/python3.8/site-packages (from requests-oauthlib>=0.7.0->google-auth-oauthlib<0.5,>=0.4.1->tensorboard) (3.1.1)\n",
      "Requirement already satisfied: pyasn1>=0.1.3 in /share/pkg.7/python3/3.8.6/install/lib/python3.8/site-packages (from rsa<5,>=3.1.4; python_version >= \"3.5\"->google-auth<2,>=1.6.3->tensorboard) (0.4.8)\n",
      "Installing collected packages: tensorboard\n",
      "\u001b[33m  WARNING: The script tensorboard is installed in '/usr4/ugrad/nikzad/.local/bin' which is not on PATH.\n",
      "  Consider adding this directory to PATH or, if you prefer to suppress this warning, use --no-warn-script-location.\u001b[0m\n",
      "Successfully installed tensorboard-2.5.0\n",
      "\u001b[33mWARNING: You are using pip version 20.2.4; however, version 21.2.2 is available.\n",
      "You should consider upgrading via the '/share/pkg.7/python3/3.8.6/install/bin/python3.8 -m pip install --upgrade pip' command.\u001b[0m\n"
     ]
    }
   ],
   "source": [
    "# !source /projectnb/cs542sp/nikzad/Famished-Geese/geese-torch-env/bin/activate\n",
    "!pip3 install tensorboard"
   ]
  },
  {
   "cell_type": "code",
   "execution_count": 11,
   "metadata": {},
   "outputs": [
    {
     "data": {
      "text/plain": [
       "ERROR: Could not find `tensorboard`. Please ensure that your PATH\n",
       "contains an executable `tensorboard` program, or explicitly specify\n",
       "the path to a TensorBoard binary by setting the `TENSORBOARD_BINARY`\n",
       "environment variable."
      ]
     },
     "metadata": {},
     "output_type": "display_data"
    }
   ],
   "source": [
    "%tensorboard --logdir runs"
   ]
  }
 ],
 "metadata": {
  "interpreter": {
   "hash": "963cca19a0e9ef885b3b2e478ecfba5c7aa2e3223bff5178cbb08bf5d92d1d99"
  },
  "kernelspec": {
   "display_name": "Python 3",
   "language": "python",
   "name": "python3"
  },
  "language_info": {
   "codemirror_mode": {
    "name": "ipython",
    "version": 3
   },
   "file_extension": ".py",
   "mimetype": "text/x-python",
   "name": "python",
   "nbconvert_exporter": "python",
   "pygments_lexer": "ipython3",
   "version": "3.8.6"
  }
 },
 "nbformat": 4,
 "nbformat_minor": 2
}
